{
 "cells": [
  {
   "cell_type": "code",
   "execution_count": null,
   "id": "df329cc7-9341-4d80-b97a-d5fc3c4f0698",
   "metadata": {},
   "outputs": [],
   "source": [
    "# Q1. What is Flask Framework? What are the advantages of Flask Framework?"
   ]
  },
  {
   "cell_type": "code",
   "execution_count": null,
   "id": "4f83e7c9-6814-4957-80aa-adf8cc88c0ff",
   "metadata": {},
   "outputs": [],
   "source": [
    "# A1.Flask is a micro web framework written in Python. It is classified as a microframework because it does not require particular \n",
    "#     tools or libraries.\n",
    "    \n",
    "# Advantages:\n",
    "#     Lightweight: Flask is a lightweight framework because it is independent of external libraries and it gives a quick start for \n",
    "#     web development having complex applications.\n",
    "#     Compatible: Flask is compatible with the latest technologies such as machine learning, agile development, cloud technologies, etc.\n",
    "#     Independent: Flask allows full control to the developers for creating web applications. A developer can do the experiment with \n",
    "#     the libraries and architecture of the framework.\n",
    "#     Integrated Unit Testing: Flask offers an integrated unit testing feature that helps in faster debugging, robust development, \n",
    "#     and independence to do experiments.\n",
    "#     Flexible and Scalable: Flask supports WSGI templates that help in flexibility and scalability in the web development process."
   ]
  },
  {
   "cell_type": "code",
   "execution_count": null,
   "id": "6c6e1715-a2fd-4418-b255-cd748b33bfbd",
   "metadata": {},
   "outputs": [],
   "source": [
    "# Q2. Create a simple Flask application to display ‘Hello World!!’. Attach the screenshot of the output in\n",
    "# Jupyter Notebook."
   ]
  },
  {
   "cell_type": "code",
   "execution_count": null,
   "id": "9168fcdf-c6ab-4ed6-8bca-639f45d351cd",
   "metadata": {},
   "outputs": [],
   "source": [
    "# A2.\n",
    "    # https://orange-carpenter-emlne.pwskills.app/files/work/screnshot1.pdf?_xsrf=2%7C06359dc1%7Cc2032bda761bdbc92dd22e9a96ab82f2%7C1696477649"
   ]
  },
  {
   "cell_type": "code",
   "execution_count": null,
   "id": "a7906a7d-cf9c-4af5-9ad8-be7e7c696ab3",
   "metadata": {},
   "outputs": [],
   "source": [
    "# Q3. What is App routing in Flask? Why do we use app routes?\n",
    "# A3.App routing is the technique used to map the specific URL with the associated function intended to perform some task. \n",
    "#     The Latest Web frameworks use the routing technique to help users remember application URLs. It is helpful to access \n",
    "#     the desired page directly without navigating from the home page."
   ]
  },
  {
   "cell_type": "code",
   "execution_count": null,
   "id": "a66d6a2d-8c34-472f-ad9b-3a02a3d802b1",
   "metadata": {},
   "outputs": [],
   "source": [
    "# Q4. Create a “/welcome” route to display the welcome message “Welcome to ABC Corporation” and a “/”\n",
    "# route to show the following details:\n",
    "# Company Name: ABC Corporation\n",
    "# Location: India\n",
    "# Contact Detail: 999-999-9999"
   ]
  },
  {
   "cell_type": "code",
   "execution_count": null,
   "id": "60e08804-cbae-4689-b1a6-e3716a4c5a64",
   "metadata": {},
   "outputs": [],
   "source": [
    "# A4.https://orange-carpenter-emlne.pwskills.app/files/work/sceenshot2.pdf?_xsrf=2%7C06359dc1%7Cc2032bda761bdbc92dd22e9a96ab82f2%7C1696477649"
   ]
  },
  {
   "cell_type": "code",
   "execution_count": null,
   "id": "38e13ca4-60e1-46c2-a998-b0650ba868df",
   "metadata": {},
   "outputs": [],
   "source": [
    "# https://orange-carpenter-emlne.pwskills.app/files/work/screenshot3.pdf?_xsrf=2%7C06359dc1%7Cc2032bda761bdbc92dd22e9a96ab82f2%7C1696477649"
   ]
  },
  {
   "cell_type": "code",
   "execution_count": null,
   "id": "c017881b-9d4a-4669-8ff7-c0a62adf2f81",
   "metadata": {},
   "outputs": [],
   "source": [
    "# Q5. What function is used in Flask for URL Building? Write a Python code to demonstrate the working of the\n",
    "# url_for() function."
   ]
  },
  {
   "cell_type": "code",
   "execution_count": null,
   "id": "f4c7e2d7-298d-435c-bf6b-30b62b1eccf8",
   "metadata": {},
   "outputs": [],
   "source": [
    "# A5.The url_for() function is very useful for dynamically building a URL for a specific function.\n"
   ]
  }
 ],
 "metadata": {
  "kernelspec": {
   "display_name": "Python 3 (ipykernel)",
   "language": "python",
   "name": "python3"
  },
  "language_info": {
   "codemirror_mode": {
    "name": "ipython",
    "version": 3
   },
   "file_extension": ".py",
   "mimetype": "text/x-python",
   "name": "python",
   "nbconvert_exporter": "python",
   "pygments_lexer": "ipython3",
   "version": "3.10.8"
  }
 },
 "nbformat": 4,
 "nbformat_minor": 5
}
